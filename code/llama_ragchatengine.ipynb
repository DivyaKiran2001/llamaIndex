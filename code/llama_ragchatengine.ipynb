{
 "cells": [
  {
   "cell_type": "code",
   "execution_count": 22,
   "metadata": {},
   "outputs": [],
   "source": [
    "from llama_index.llms.gemini import Gemini\n",
    "from dotenv import load_dotenv"
   ]
  },
  {
   "cell_type": "code",
   "execution_count": 23,
   "metadata": {},
   "outputs": [],
   "source": [
    "import os\n",
    "load_dotenv()\n",
    "api_key = os.getenv(\"GEMINI_API_KEY\")"
   ]
  },
  {
   "cell_type": "code",
   "execution_count": 24,
   "metadata": {},
   "outputs": [
    {
     "name": "stderr",
     "output_type": "stream",
     "text": [
      "C:\\Users\\divyakirant\\AppData\\Local\\Temp\\ipykernel_8560\\2549428705.py:6: DeprecationWarning: Call to deprecated class Gemini. (Should use `llama-index-llms-google-genai` instead, using Google's latest unified SDK. See: https://docs.llamaindex.ai/en/stable/examples/llm/google_genai/)\n",
      "  gemini_llm = Gemini(model=\"models/gemini-1.5-pro\")\n",
      "C:\\Users\\divyakirant\\AppData\\Local\\Temp\\ipykernel_8560\\2549428705.py:7: DeprecationWarning: Call to deprecated class GeminiEmbedding. (Should use `llama-index-embeddings-google-genai` instead, using Google's latest unified SDK. See: https://docs.llamaindex.ai/en/stable/examples/embeddings/google_genai/)\n",
      "  gemini_embedding = GeminiEmbedding(model=\"models/embedding-001\")\n"
     ]
    }
   ],
   "source": [
    "from llama_index.core import VectorStoreIndex,SimpleDirectoryReader,Settings\n",
    "from llama_index.embeddings.gemini import GeminiEmbedding\n",
    "\n",
    "\n",
    "# Configure Gemini models\n",
    "gemini_llm = Gemini(model=\"models/gemini-1.5-pro\")\n",
    "gemini_embedding = GeminiEmbedding(model=\"models/embedding-001\")\n",
    "\n",
    "# Tell LlamaIndex to use Gemini everywhere\n",
    "Settings.llm = gemini_llm\n",
    "Settings.embed_model = gemini_embedding\n"
   ]
  },
  {
   "cell_type": "code",
   "execution_count": 25,
   "metadata": {},
   "outputs": [],
   "source": [
    "from llama_index.core import SimpleDirectoryReader\n",
    "from llama_index.core.node_parser import SentenceSplitter\n",
    "from llama_index.core import VectorStoreIndex"
   ]
  },
  {
   "cell_type": "code",
   "execution_count": 26,
   "metadata": {},
   "outputs": [],
   "source": [
    "reader=SimpleDirectoryReader(input_files=['./data/ragintro.pdf'])\n",
    "documents=reader.load_data()"
   ]
  },
  {
   "cell_type": "code",
   "execution_count": 27,
   "metadata": {},
   "outputs": [],
   "source": [
    "parser=SentenceSplitter(chunk_size=100,chunk_overlap=20)\n",
    "all_documents=parser.get_nodes_from_documents(documents)\n"
   ]
  },
  {
   "cell_type": "code",
   "execution_count": 28,
   "metadata": {},
   "outputs": [
    {
     "name": "stdout",
     "output_type": "stream",
     "text": [
      "Vectors Store: <llama_index.core.indices.vector_store.base.VectorStoreIndex object at 0x00000174C350DBD0>\n",
      "Vectors Store ID: ae42d334-ce4f-4d1d-bec4-2523ad3265a6\n"
     ]
    }
   ],
   "source": [
    "index=VectorStoreIndex.from_documents(documents=all_documents)\n",
    "\n",
    "print(f\"Vectors Store: {index}\")\n",
    "print(f\"Vectors Store ID: {index.index_id}\")"
   ]
  },
  {
   "cell_type": "code",
   "execution_count": 29,
   "metadata": {},
   "outputs": [],
   "source": [
    "chat_engine=index.as_chat_engine(\n",
    "    chat_mode=\"context\",\n",
    "    llm=gemini_llm,\n",
    "    system_prompt=(\n",
    "        \"You are a chatbot, able to have normal interactions, as well as talk\"\n",
    "        \" about an pdf loaded in this context.If the question is not relevant to the context and in the loaded documents, just say I don't know.\"\n",
    "    ),\n",
    ")"
   ]
  },
  {
   "cell_type": "code",
   "execution_count": 30,
   "metadata": {},
   "outputs": [
    {
     "name": "stdout",
     "output_type": "stream",
     "text": [
      "Hi! How can I help you today?\n",
      "\n"
     ]
    }
   ],
   "source": [
    "response=chat_engine.chat(\"hi\")\n",
    "print(response)"
   ]
  },
  {
   "cell_type": "code",
   "execution_count": 31,
   "metadata": {},
   "outputs": [
    {
     "name": "stdout",
     "output_type": "stream",
     "text": [
      "One strategy mentioned in the PDF is **file format-based chunking**.  This means respecting the natural structure of the file type.  Specifically, it gives these examples:\n",
      "\n",
      "* **Code files:** Chunk by whole functions or classes.\n",
      "* **HTML files:** Keep `<table>` and base64 encoded `<img>` elements intact.\n",
      "* **PDF files:**  Similar considerations should be applied (although the specific considerations for PDFs aren't detailed in this excerpt).\n",
      "\n"
     ]
    }
   ],
   "source": [
    "response = chat_engine.chat(\"various strategies of chunking from the pdf\")\n",
    "print(response)"
   ]
  },
  {
   "cell_type": "code",
   "execution_count": null,
   "metadata": {},
   "outputs": [],
   "source": []
  }
 ],
 "metadata": {
  "kernelspec": {
   "display_name": ".venv",
   "language": "python",
   "name": "python3"
  },
  "language_info": {
   "codemirror_mode": {
    "name": "ipython",
    "version": 3
   },
   "file_extension": ".py",
   "mimetype": "text/x-python",
   "name": "python",
   "nbconvert_exporter": "python",
   "pygments_lexer": "ipython3",
   "version": "3.13.1"
  }
 },
 "nbformat": 4,
 "nbformat_minor": 2
}
